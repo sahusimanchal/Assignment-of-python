{
 "cells": [
  {
   "cell_type": "code",
   "execution_count": 1,
   "id": "330635df-c806-4eab-9d12-56aa1902df17",
   "metadata": {},
   "outputs": [
    {
     "name": "stdout",
     "output_type": "stream",
     "text": [
      "<class 'int'>\n",
      "5.0\n",
      "<class 'float'>\n"
     ]
    }
   ],
   "source": [
    "#Covert a integer to a floatig-poit umber.\n",
    "\n",
    "integer_value = 5\n",
    "print(type(integer_value))\n",
    "\n",
    "float_point = float(integer_value)\n",
    "print(float_point)\n",
    "print(type(float_point))\n",
    "\n"
   ]
  },
  {
   "cell_type": "code",
   "execution_count": 48,
   "id": "c7c9c40b-679f-4d74-8774-06047302e944",
   "metadata": {},
   "outputs": [
    {
     "name": "stdout",
     "output_type": "stream",
     "text": [
      "<class 'float'>\n",
      "3\n",
      "<class 'int'>\n"
     ]
    }
   ],
   "source": [
    "#Covert a float to a iteger.\n",
    "\n",
    "float_value = 3.5\n",
    "print(type(float_value))\n",
    "\n",
    "integer_value = int(float_value)\n",
    "print(integer_value)\n",
    "print(type(integer_value))"
   ]
  },
  {
   "cell_type": "code",
   "execution_count": 47,
   "id": "2ae8497c-163a-4712-b9d0-8d6cc23340d0",
   "metadata": {},
   "outputs": [
    {
     "name": "stdout",
     "output_type": "stream",
     "text": [
      "<class 'int'>\n",
      "5\n",
      "<class 'str'>\n"
     ]
    }
   ],
   "source": [
    "#Covert a integer to a string.\n",
    "\n",
    "integer_Value = 5\n",
    "print(type(integer_Value))\n",
    "\n",
    "to_String_Value = str(integer_Value)\n",
    "print(to_String_Value)\n",
    "print(type(to_String_Value))\n",
    "\n"
   ]
  },
  {
   "cell_type": "code",
   "execution_count": 46,
   "id": "362af6d8-016a-4f3e-b527-91f2f18a11f4",
   "metadata": {},
   "outputs": [
    {
     "name": "stdout",
     "output_type": "stream",
     "text": [
      "[1, 2, 3, 4, 5]\n",
      "<class 'list'>\n",
      "(1, 2, 3, 4, 5)\n",
      "<class 'tuple'>\n"
     ]
    }
   ],
   "source": [
    "#Covert a list to a tuple.\n",
    "\n",
    "list_To = [1,2,3,4,5]\n",
    "print(list_To)\n",
    "print(type(list_To))\n",
    "\n",
    "to_Tuple = tuple(list_To)\n",
    "print(to_Tuple)\n",
    "print(type(to_Tuple))"
   ]
  },
  {
   "cell_type": "code",
   "execution_count": 39,
   "id": "0df4afef-d202-4e95-97e0-b30fded05f13",
   "metadata": {},
   "outputs": [
    {
     "name": "stdout",
     "output_type": "stream",
     "text": [
      "(1, 2, 3, 4, 5)\n",
      "<class 'tuple'>\n",
      "[1, 2, 3, 4, 5]\n",
      "<class 'list'>\n"
     ]
    }
   ],
   "source": [
    "#Covert a tuple to a list.\n",
    "\n",
    "tuple_To = (1,2,3,4,5)\n",
    "print(tuple_To)\n",
    "print(type(tuple_To))\n",
    "\n",
    "to_List = list(tuple_To)\n",
    "print(to_List)\n",
    "print(type(to_List))"
   ]
  },
  {
   "cell_type": "code",
   "execution_count": 44,
   "id": "99f67c7e-ae61-4d7b-a676-14110e56f2c2",
   "metadata": {},
   "outputs": [
    {
     "name": "stdout",
     "output_type": "stream",
     "text": [
      "10\n",
      "0b1010\n"
     ]
    }
   ],
   "source": [
    "#Covert a decimal number to biary.\n",
    "\n",
    "decimal_No =10\n",
    "print(decimal_No)\n",
    "\n",
    "binary_No = bin(decimal_No)\n",
    "print(binary_No)"
   ]
  },
  {
   "cell_type": "code",
   "execution_count": 42,
   "id": "8232cadb-398a-4dfa-8e20-c298e79df732",
   "metadata": {},
   "outputs": [
    {
     "name": "stdout",
     "output_type": "stream",
     "text": [
      "10\n",
      "True\n"
     ]
    }
   ],
   "source": [
    "#Covert a non-zero number to boolea.\n",
    "\n",
    "non_Zero_Number = 10\n",
    "print(non_Zero_Number)\n",
    "\n",
    "boolen_value = bool(non_Zero_Number)\n",
    "print(boolen_value)\n",
    "\n"
   ]
  },
  {
   "cell_type": "code",
   "execution_count": null,
   "id": "fe33f1ad-e201-464a-9a3a-acc3c5bfc57b",
   "metadata": {},
   "outputs": [],
   "source": []
  }
 ],
 "metadata": {
  "kernelspec": {
   "display_name": "Python 3 (ipykernel)",
   "language": "python",
   "name": "python3"
  },
  "language_info": {
   "codemirror_mode": {
    "name": "ipython",
    "version": 3
   },
   "file_extension": ".py",
   "mimetype": "text/x-python",
   "name": "python",
   "nbconvert_exporter": "python",
   "pygments_lexer": "ipython3",
   "version": "3.10.8"
  }
 },
 "nbformat": 4,
 "nbformat_minor": 5
}
