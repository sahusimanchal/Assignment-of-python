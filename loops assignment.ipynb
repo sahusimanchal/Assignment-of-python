{
 "cells": [
  {
   "cell_type": "code",
   "execution_count": 3,
   "id": "fc9a5c57-d838-4a49-a9da-59c342ef238b",
   "metadata": {},
   "outputs": [
    {
     "name": "stdout",
     "output_type": "stream",
     "text": [
      "1\n",
      "2\n",
      "3\n",
      "4\n",
      "5\n"
     ]
    }
   ],
   "source": [
    "#Print number from 1 to 5 using a while loop.\n",
    "\n",
    "i = 1\n",
    "while i <= 5:\n",
    "    print(i)\n",
    "    i+=1"
   ]
  },
  {
   "cell_type": "code",
   "execution_count": 8,
   "id": "5f44163d-424e-4a4a-a9fd-2139eacb841a",
   "metadata": {},
   "outputs": [
    {
     "name": "stdout",
     "output_type": "stream",
     "text": [
      "55\n"
     ]
    }
   ],
   "source": [
    "#Calculate the sum of number from 1 to 10 using a while loop.\n",
    "\n",
    "i = 1\n",
    "sum_of_numbers = 0\n",
    "while i <= 10:\n",
    "    sum_of_numbers += i\n",
    "    i+=1\n",
    "print(sum_of_numbers)"
   ]
  },
  {
   "cell_type": "code",
   "execution_count": 31,
   "id": "2149d1af-40c6-499c-8368-1fd48bf10972",
   "metadata": {},
   "outputs": [
    {
     "name": "stdin",
     "output_type": "stream",
     "text": [
      "factorial value of 10\n"
     ]
    },
    {
     "name": "stdout",
     "output_type": "stream",
     "text": [
      "3628800\n"
     ]
    }
   ],
   "source": [
    "#Calculate the factorial of a number usinging a for loop.\n",
    "\n",
    "n =int(input(\"factorial value of\"))\n",
    "\n",
    "f = 1\n",
    "for i in range(1, n+1):\n",
    "    f = f*i\n",
    "    i = i+1\n",
    "    \n",
    "print(f)    \n"
   ]
  },
  {
   "cell_type": "code",
   "execution_count": 36,
   "id": "8add7bf7-fcf0-4f13-b66c-fec8588f43cf",
   "metadata": {},
   "outputs": [
    {
     "name": "stdin",
     "output_type": "stream",
     "text": [
      "text: Do You Know Who I Am\n"
     ]
    },
    {
     "name": "stdout",
     "output_type": "stream",
     "text": [
      "couont: 7\n"
     ]
    }
   ],
   "source": [
    "#Count the number of vowel in a string using a for loop.\n",
    "\n",
    "n = input(\"text:\")\n",
    "count = 0\n",
    "for i in n:\n",
    "    if i in \"aAeEiIoOuU\":\n",
    "        count = count+1\n",
    "print(\"couont:\", count)"
   ]
  },
  {
   "cell_type": "code",
   "execution_count": 11,
   "id": "6311bf00-f0f3-4529-a291-18d02aee95b5",
   "metadata": {},
   "outputs": [
    {
     "name": "stdout",
     "output_type": "stream",
     "text": [
      "* $ $ $ $ $ \n",
      "* * $ $ $ $ \n",
      "* * * $ $ $ \n",
      "* * * * $ $ \n",
      "* * * * * $ \n"
     ]
    }
   ],
   "source": [
    "#Print a pattern using nested loop.\n",
    "\n",
    "n = 5\n",
    "for i in range(n):\n",
    "    for j in range(i+1):\n",
    "        print(\"*\", end = \" \")\n",
    "        j = j+1\n",
    "    for j in range(i , n):\n",
    "        print(\"$\", end = \" \")\n",
    "        j = j+1\n",
    "            \n",
    "        \n",
    "    print()    "
   ]
  },
  {
   "cell_type": "code",
   "execution_count": 12,
   "id": "256da36d-4781-4c5a-8a89-b3245b2a7520",
   "metadata": {},
   "outputs": [
    {
     "name": "stdin",
     "output_type": "stream",
     "text": [
      "write the number of multiplication table 5\n"
     ]
    },
    {
     "name": "stdout",
     "output_type": "stream",
     "text": [
      "5 * 1 = 5\n",
      "5 * 2 = 10\n",
      "5 * 3 = 15\n",
      "5 * 4 = 20\n",
      "5 * 5 = 25\n",
      "5 * 6 = 30\n",
      "5 * 7 = 35\n",
      "5 * 8 = 40\n",
      "5 * 9 = 45\n",
      "5 * 10 = 50\n"
     ]
    }
   ],
   "source": [
    "#Generate a multiplication table using nested loop.\n",
    "\n",
    "\n",
    "n =int(input(\"write the number of multiplication table\"))\n",
    "for i in range(1,11):\n",
    "     print(n, \"*\", i, \"=\" , n*i)"
   ]
  },
  {
   "cell_type": "code",
   "execution_count": null,
   "id": "181d717e-6568-48b6-a8cd-19578b7ec322",
   "metadata": {},
   "outputs": [],
   "source": []
  }
 ],
 "metadata": {
  "kernelspec": {
   "display_name": "Python 3 (ipykernel)",
   "language": "python",
   "name": "python3"
  },
  "language_info": {
   "codemirror_mode": {
    "name": "ipython",
    "version": 3
   },
   "file_extension": ".py",
   "mimetype": "text/x-python",
   "name": "python",
   "nbconvert_exporter": "python",
   "pygments_lexer": "ipython3",
   "version": "3.10.8"
  }
 },
 "nbformat": 4,
 "nbformat_minor": 5
}
