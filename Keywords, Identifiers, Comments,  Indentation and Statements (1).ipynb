{
 "cells": [
  {
   "cell_type": "markdown",
   "id": "a69d9ab4-a10b-4130-83eb-9f4800f12c67",
   "metadata": {},
   "source": [
    "> Explain the significance of Python keywords and provide examples of five keywords\n",
    "\n",
    "Python keywords are reserved words that have predefined meanings and are used to define the syntax and structure of the Python programming language. These keywords cannot be used as identifiers (names for variables, functions, classes, etc.) because they are reserved for specific purposes within the language. Understanding and correctly using these keywords is crucial for writing Python code that is both readable and functional.\n",
    "\n",
    "Here is the examples of five keywords\n",
    "\n",
    "1) Print: Used to display output on the screen.\n",
    "\n",
    "2) If: Enables conditional execution based on a specified condition.\n",
    "\n",
    "3) For: Facilitates looping over a sequence like a list or range.\n",
    "\n",
    "4) While: Executes a block of code repeatedly as long as a condition is true.\n",
    "\n",
    "5) Break: Terminates the current loop and resumes execution at the next statement."
   ]
  },
  {
   "cell_type": "code",
   "execution_count": 2,
   "id": "9264074e-d47e-48e7-852e-7493c023ad05",
   "metadata": {},
   "outputs": [
    {
     "name": "stdout",
     "output_type": "stream",
     "text": [
      "Hello, World!\n"
     ]
    }
   ],
   "source": [
    "# Print keyword example\n",
    "print(\"Hello, World!\")\n",
    "\n"
   ]
  },
  {
   "cell_type": "code",
   "execution_count": 3,
   "id": "e1fd14f9-38c4-46b3-b23f-1e5447ab30d6",
   "metadata": {},
   "outputs": [
    {
     "name": "stdout",
     "output_type": "stream",
     "text": [
      "10 is greater than 5\n"
     ]
    }
   ],
   "source": [
    "# If keyword example\n",
    "if 10 > 5:\n",
    "    print(\"10 is greater than 5\")\n",
    "\n"
   ]
  },
  {
   "cell_type": "code",
   "execution_count": 4,
   "id": "e7c49122-d6b5-4174-a580-e43bf0728d77",
   "metadata": {},
   "outputs": [
    {
     "name": "stdout",
     "output_type": "stream",
     "text": [
      "0\n",
      "1\n",
      "2\n",
      "3\n",
      "4\n"
     ]
    }
   ],
   "source": [
    "# For keyword example\n",
    "for i in range(5):\n",
    "    print(i)\n",
    "\n"
   ]
  },
  {
   "cell_type": "code",
   "execution_count": 19,
   "id": "c071b715-0add-4cbc-8599-e7400b87f287",
   "metadata": {},
   "outputs": [
    {
     "name": "stdout",
     "output_type": "stream",
     "text": [
      "1\n",
      "2\n",
      "3\n",
      "4\n",
      "5\n",
      "6\n",
      "7\n",
      "8\n",
      "9\n",
      "10\n"
     ]
    }
   ],
   "source": [
    "# While keyword example\n",
    "i = 1\n",
    "while i <= 10:\n",
    "    print(i)\n",
    "    i = i+1\n",
    "\n"
   ]
  },
  {
   "cell_type": "code",
   "execution_count": 20,
   "id": "c7deece1-724f-4a1a-83c4-fb7a2e772ea9",
   "metadata": {},
   "outputs": [
    {
     "name": "stdout",
     "output_type": "stream",
     "text": [
      "1\n",
      "2\n"
     ]
    }
   ],
   "source": [
    "# Break keyword example\n",
    "for i in range(1,5):\n",
    "    if i == 3:\n",
    "        break\n",
    "    print(i)"
   ]
  },
  {
   "cell_type": "markdown",
   "id": "f566b5c3-0f03-4f96-81ab-769e04250343",
   "metadata": {},
   "source": [
    "\n",
    "> Describe the rules for defining identifiers in Python and provide an example\n",
    "\n",
    "In Python, identifiers are names used to identify variables, functions, classes, modules, or other objects. They serve as labels for various elements in the code. Here are the rules for defining identifiers in Python:\n",
    "\n",
    "- Valid Characters: Identifiers can include letters (both uppercase and lowercase), digits (0-9), and underscores (_). They must start with a letter or an underscore.\n",
    "\n",
    "- Case Sensitivity: Python identifiers are case-sensitive. For example, 'myVariable' and 'MyVariable' are considered different identifiers.\n",
    "\n",
    "- Reserved Words: Identifiers cannot be the same as Python keywords or reserved words.\n",
    "\n",
    "- No Special Characters: Identifiers cannot contain special characters such as !, @, #, $, %, etc.\n",
    "\n",
    "- No Spaces: Identifiers cannot contain spaces.\n",
    "\n",
    "- Length: There is no limit on the length of an identifier, but it's good practice to keep them meaningful and reasonably short.\n",
    "\n",
    "Here is an example demonstrating valid and invalid identifiers:"
   ]
  },
  {
   "cell_type": "code",
   "execution_count": 25,
   "id": "e2a2b536-d133-4a9b-b696-a5f6543abfed",
   "metadata": {},
   "outputs": [
    {
     "name": "stdout",
     "output_type": "stream",
     "text": [
      "42\n",
      "John\n",
      "30\n",
      "1000\n",
      "True\n"
     ]
    }
   ],
   "source": [
    "# Valid identifiers\n",
    "\n",
    "my_variable = 42\n",
    "name = \"John\"\n",
    "user_age = 30\n",
    "_total = 1000\n",
    "this_is_valid_too = True\n",
    "    \n",
    "print( my_variable)\n",
    "print( name)\n",
    "print( user_age)\n",
    "print( _total)\n",
    "print( this_is_valid_too)\n"
   ]
  },
  {
   "cell_type": "code",
   "execution_count": 27,
   "id": "a4373cf8-e9a3-4e4c-a3e2-30385ae6bae0",
   "metadata": {},
   "outputs": [
    {
     "ename": "SyntaxError",
     "evalue": "invalid decimal literal (234208096.py, line 2)",
     "output_type": "error",
     "traceback": [
      "\u001b[0;36m  Cell \u001b[0;32mIn[27], line 2\u001b[0;36m\u001b[0m\n\u001b[0;31m    2nd_variable = \"error\"   # Cannot start with a digit\u001b[0m\n\u001b[0m    ^\u001b[0m\n\u001b[0;31mSyntaxError\u001b[0m\u001b[0;31m:\u001b[0m invalid decimal literal\n"
     ]
    }
   ],
   "source": [
    "# Invalid identifiers\n",
    "2nd_variable = \"error\"   # Cannot start with a digit\n",
    "$money = 100             # Cannot contain special characters\n",
    "my variable = 10         # Cannot contain spaces\n",
    "class = \"Computer Science\"  # Cannot use Python keywords\n",
    "\n",
    "print(2nd_variable)\n",
    "print($money)\n",
    "print(my variable)\n",
    "print(class)"
   ]
  },
  {
   "cell_type": "markdown",
   "id": "b96b1e4d-06da-4cfd-b516-ef3573517390",
   "metadata": {},
   "source": [
    "In this example, my_variable, name, user_age, _total, and this_is_valid_too are all valid identifiers following the rules mentioned above. Conversely, 2nd_variable, $money, my variable, and class are invalid because they violate one or more of the rules for defining identifiers in Python.\n"
   ]
  },
  {
   "cell_type": "markdown",
   "id": "9d669234-f70b-4593-9639-125450c883cd",
   "metadata": {},
   "source": [
    "> What are comments in Python, and why are they useful6 Provide an example\n",
    "\n",
    "comments are textual explanations or annotations within the code that are ignored by the Python interpreter during execution. They are used to provide additional information about the code, such as explanations, documentation, or reminders, and they improve code readability and maintainability. Comments are useful for developers to understand the purpose and functionality of the code, especially when revisiting or collaborating on projects.\n",
    "\n",
    "Comments in Python can be of two types:\n",
    "\n",
    "1. Single-line Comments: These comments begin with the # symbol and extend to the end of the line. They are typically used for short explanations or annotations.\n",
    "\n",
    "2. Multi-line Comments or Docstrings: These comments can span multiple lines and are enclosed within triple quotes (\"\"\" \"\"\"). Multi-line comments are often used for longer explanations, documentation strings , or multiline comments.\n",
    "\n",
    "Here is an example demonstrating both types of comments:\n",
    "\n",
    "\n"
   ]
  },
  {
   "cell_type": "code",
   "execution_count": 29,
   "id": "ca01e015-e259-4bf4-9fc8-52799229e401",
   "metadata": {},
   "outputs": [
    {
     "name": "stdout",
     "output_type": "stream",
     "text": [
      "Hello, World!\n",
      "10\n"
     ]
    }
   ],
   "source": [
    "# This is a single-line comment\n",
    "print(\"Hello, World!\")  # This is another single-line comment\n",
    "\n",
    "\n",
    "# This is a multi-line comment\n",
    "\n",
    "a = 5\n",
    "b = 5\n",
    "add = a+b\n",
    "\n",
    "\"\"\"\n",
    "in the above there is two variabe a and b \n",
    "        a (int): The first number.\n",
    "        b (int): The second number.\n",
    "        add: The sum of a and b.\n",
    "\"\"\"\n",
    "print(add)\n"
   ]
  },
  {
   "cell_type": "markdown",
   "id": "ac1de332-4b45-4074-bf89-529fe1f16a65",
   "metadata": {},
   "source": [
    "> Why is proper indentation important in Python ?\n",
    "\n",
    "Proper indentation is crucial in Python because it serves as a structural element of the code, indicating blocks of code within control structures such as loops, conditionals, functions, and classes. Unlike many other programming languages where indentation is just a matter of style, in Python, it is syntactically significant. The Python interpreter uses indentation to determine the beginning and end of blocks of code.\n",
    "\n",
    "Here are some reasons why proper indentation is important in Python:\n",
    "\n",
    "1. Readability: Indentation improves code readability by visually organizing the structure of the code. It makes it easier for developers to understand the flow of control and the hierarchy of nested blocks.\n",
    "\n",
    "2. Clarity: Indentation clarifies the logical structure of the code, making it clear which statements are part of a particular block of code, such as loops or conditional statements.\n",
    "\n",
    "3. Enforces Consistency: Python's strict indentation rules enforce consistency in coding style across projects and among team members. This consistency makes the codebase more maintainable and reduces the likelihood of errors.\n",
    "\n",
    "4. No Explicit Block Delimiters: Unlike languages such as C, Java, or JavaScript, Python does not use explicit block delimiters like curly braces {} to denote blocks of code. Instead, it relies entirely on indentation to indicate the beginning and end of blocks.\n",
    "\n",
    "5. Syntax Error Prevention: Incorrect indentation can lead to syntax errors or alter the logic of the code unintentionally. Therefore, proper indentation helps prevent such errors and ensures that the code behaves as intended.\n",
    "\n",
    "6. Debugging: Properly indented code is easier to debug because it clearly delineates the structure of the code, making it easier to identify and fix issues.\n",
    "\n",
    "Here is an example demonstrating the importance of proper indentation in Python:\n",
    "\n"
   ]
  },
  {
   "cell_type": "code",
   "execution_count": 31,
   "id": "69c5fbbf-c0f1-474a-ab97-8accf2b0cb84",
   "metadata": {},
   "outputs": [
    {
     "name": "stdout",
     "output_type": "stream",
     "text": [
      "This is inside the loop\n",
      "This is inside the loop\n",
      "This is inside the loop\n",
      "This is inside the loop\n",
      "This is inside the loop\n"
     ]
    }
   ],
   "source": [
    "# Correct indentation\n",
    "for i in range(5):\n",
    "    print(\"This is inside the loop\")  # This line is correctly indented"
   ]
  },
  {
   "cell_type": "markdown",
   "id": "58c14352-f086-4cf0-b33d-94a3f8fa0fd5",
   "metadata": {},
   "source": [
    "> What happens if indentation is incorrect in Python ?\n",
    "\n",
    "If indentation is incorrect in Python, it will result in an IndentationError when you try to run the code. This error occurs when the interpreter encounters inconsistent or unexpected indentation within the code.\n",
    "\n",
    "Here is an example to illustrate what happens when indentation is incorrect:"
   ]
  },
  {
   "cell_type": "code",
   "execution_count": 32,
   "id": "a40449da-a63d-4e30-8be4-00dc2a2f7e46",
   "metadata": {},
   "outputs": [
    {
     "ename": "IndentationError",
     "evalue": "expected an indented block after 'for' statement on line 2 (2306876061.py, line 3)",
     "output_type": "error",
     "traceback": [
      "\u001b[0;36m  Cell \u001b[0;32mIn[32], line 3\u001b[0;36m\u001b[0m\n\u001b[0;31m    print(\"This is inside the loop\")  # This line will raise an IndentationError\u001b[0m\n\u001b[0m    ^\u001b[0m\n\u001b[0;31mIndentationError\u001b[0m\u001b[0;31m:\u001b[0m expected an indented block after 'for' statement on line 2\n"
     ]
    }
   ],
   "source": [
    "# Incorrect indentation\n",
    "for i in range(5):\n",
    "print(\"This is inside the loop\")  # This line will raise an IndentationError"
   ]
  },
  {
   "cell_type": "markdown",
   "id": "22b21da6-a73c-4dce-9014-ca3ceacbaa7a",
   "metadata": {},
   "source": [
    "> Differentiate between expression and statement in Python with examples\n",
    "\n",
    "In Python, expressions and statements are both fundamental elements of the language, but they serve different purposes and have distinct characteristics.\n",
    "\n",
    "> Expression:\n",
    "\n",
    "\n",
    "An expression is a combination of values, variables, operators, and function calls that evaluates to a single value. Expressions can be as simple as a single variable or value, or they can be more complex, involving mathematical operations, function calls, and logical operators. In Python, expressions can be used wherever a value is expected, such as in assignments, function arguments, or as part of larger expressions.\n",
    "\n",
    "Examples of expressions:"
   ]
  },
  {
   "cell_type": "code",
   "execution_count": 33,
   "id": "d590ed49-3a94-4bfa-b7b6-a34b9ad19289",
   "metadata": {},
   "outputs": [
    {
     "name": "stdout",
     "output_type": "stream",
     "text": [
      "10\n",
      "15\n",
      "50\n"
     ]
    }
   ],
   "source": [
    "# Simple expressions\n",
    "x = 10  # Assignment expression\n",
    "y = x + 5  # Arithmetic expression\n",
    "z = (x + y) * 2  # Complex arithmetic expression\n",
    "\n",
    "print(x)\n",
    "print(y)\n",
    "print(z)"
   ]
  },
  {
   "cell_type": "code",
   "execution_count": null,
   "id": "dcf5a2bc-e56a-4f99-bb6c-c16b3d0e489f",
   "metadata": {},
   "outputs": [],
   "source": []
  }
 ],
 "metadata": {
  "kernelspec": {
   "display_name": "Python 3 (ipykernel)",
   "language": "python",
   "name": "python3"
  },
  "language_info": {
   "codemirror_mode": {
    "name": "ipython",
    "version": 3
   },
   "file_extension": ".py",
   "mimetype": "text/x-python",
   "name": "python",
   "nbconvert_exporter": "python",
   "pygments_lexer": "ipython3",
   "version": "3.10.8"
  }
 },
 "nbformat": 4,
 "nbformat_minor": 5
}
