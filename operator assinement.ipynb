{
 "cells": [
  {
   "cell_type": "code",
   "execution_count": 14,
   "id": "c7c11617-c7a8-4c66-90bd-dee975787bfc",
   "metadata": {},
   "outputs": [
    {
     "name": "stdout",
     "output_type": "stream",
     "text": [
      "30\n",
      "10\n",
      "200\n",
      "2.0\n"
     ]
    }
   ],
   "source": [
    "#Calculate the sum, difference, product, and quotient of two numbers.\n",
    "\n",
    "a = 20 \n",
    "b = 10\n",
    "sumOf_AandB = a+b\n",
    "differenceOf_AandB = a - b\n",
    "productOf_AandB = a * b\n",
    "quotientOf_AandB = a / b\n",
    "\n",
    "print(sumOf_AandB)\n",
    "print(differenceOf_AandB)\n",
    "print(productOf_AandB)\n",
    "print(quotientOf_AandB)"
   ]
  },
  {
   "cell_type": "code",
   "execution_count": 33,
   "id": "19552c68-5546-486d-baeb-1cd441865e8b",
   "metadata": {},
   "outputs": [
    {
     "name": "stdout",
     "output_type": "stream",
     "text": [
      "Add and Assign = 46\n",
      "Subtract and Assign = 40\n",
      "Multiply AND Assigna = 240\n",
      "Divide AND Assigna = 40.0\n",
      "Modulus AND Assigna = 4.0\n",
      "Divide floor AND Assigna = 4\n",
      "Exponent and Assign = 16384\n"
     ]
    }
   ],
   "source": [
    "#Perform various assignment operations on a variable.\n",
    "\n",
    "a = 40\n",
    "b = 6\n",
    "\n",
    "a = a+b\n",
    "print(\"Add and Assign\", a, sep=\" = \")\n",
    "a = a-b\n",
    "print(\"Subtract and Assign\", a, sep=\" = \")\n",
    "a = a*b\n",
    "print(\"Multiply AND Assigna\", a, sep=\" = \")\n",
    "a = a/b\n",
    "print(\"Divide AND Assigna\", a, sep=\" = \")\n",
    "a = a%b\n",
    "print(\"Modulus AND Assigna\", a, sep=\" = \")\n",
    "\n",
    "\n",
    "x = 30\n",
    "y = 7\n",
    "\n",
    "x = x//y\n",
    "print(\"Divide floor AND Assigna\", x, sep=\" = \")\n",
    "x = x ** y\n",
    "print(\"Exponent and Assign\", x , sep=\" = \")\n",
    "\n"
   ]
  },
  {
   "cell_type": "code",
   "execution_count": 36,
   "id": "5400d0f7-897d-47af-abcd-d4b264c215d6",
   "metadata": {},
   "outputs": [
    {
     "name": "stdout",
     "output_type": "stream",
     "text": [
      "A is senior then B\n"
     ]
    }
   ],
   "source": [
    "#Compare two numbers and print the results.\n",
    "\n",
    "a = 20\n",
    "b = 12\n",
    "\n",
    "if a < b:\n",
    "    print(\"B is senior then A\")\n",
    "elif a > b:\n",
    "    print(\"A is senior then B\")\n",
    "else:\n",
    "    print(\"A and B are equal\")"
   ]
  },
  {
   "cell_type": "code",
   "execution_count": 42,
   "id": "8fdd2981-e77a-4d9b-ae69-5c0a7cb8fb70",
   "metadata": {},
   "outputs": [
    {
     "name": "stdout",
     "output_type": "stream",
     "text": [
      "you have to pay 35% tax to government\n"
     ]
    }
   ],
   "source": [
    "#Check conditions using logical operators.\n",
    "income = 20000000\n",
    "\n",
    "\n",
    "if income > 500000 and income < 1000000:\n",
    "    print(\"you have to pay 12% tax to government \")\n",
    "elif income > 1000000 and income < 10000000:\n",
    "    print(\"you have to pay 30% tax to government\")\n",
    "elif income > 10000000:\n",
    "    print(\"you have to pay 35% tax to government\")\n",
    "\n",
    "else:\n",
    "    print(\"you have to earn money to pay tex\")\n"
   ]
  },
  {
   "cell_type": "code",
   "execution_count": 4,
   "id": "b3e270aa-f311-4223-95c6-38e012cf5374",
   "metadata": {},
   "outputs": [
    {
     "name": "stdin",
     "output_type": "stream",
     "text": [
      " 10\n",
      " 10\n"
     ]
    },
    {
     "name": "stdout",
     "output_type": "stream",
     "text": [
      "140718299349520\n",
      "140718299349520\n"
     ]
    },
    {
     "data": {
      "text/plain": [
       "True"
      ]
     },
     "execution_count": 4,
     "metadata": {},
     "output_type": "execute_result"
    }
   ],
   "source": [
    "#Check the identity of variables.\n",
    "\n",
    "a = int(input())\n",
    "b = int(input())\n",
    "\n",
    "print(id(a))\n",
    "print(id(b))\n",
    "\n",
    "#check a is b or not\n",
    "\n",
    "a is b"
   ]
  },
  {
   "cell_type": "code",
   "execution_count": 13,
   "id": "633cc5a0-32dd-4e85-849d-93bcf7647915",
   "metadata": {},
   "outputs": [
    {
     "name": "stdout",
     "output_type": "stream",
     "text": [
      "0b110\n",
      "0b1010\n",
      "2\n",
      "14\n",
      "12\n"
     ]
    }
   ],
   "source": [
    "#Perform bitwise operations on any two integers.\n",
    "\n",
    "a = 6\n",
    "b = 10\n",
    "\n",
    "print(bin(a))\n",
    "print(bin(b))\n",
    "\n",
    "print(a & b) #0110 = 6\n",
    "             #1010 = 10\n",
    "             #0010 = 2\n",
    "        \n",
    "print(a | b) #0110 = 6\n",
    "             #1010 = 10\n",
    "             #1110 = 14\n",
    "        \n",
    "print(a ^ b) #0110 = 6\n",
    "             #1010 = 10\n",
    "             #1100 = 12\n"
   ]
  },
  {
   "cell_type": "code",
   "execution_count": 24,
   "id": "56fc2f7f-3736-4f6a-90d7-ab88dcda09bf",
   "metadata": {},
   "outputs": [
    {
     "name": "stdout",
     "output_type": "stream",
     "text": [
      "10\n",
      "-10\n"
     ]
    }
   ],
   "source": [
    "#Use unary operators to change the sign of a number.\n",
    "\n",
    "number = -10\n",
    "\n",
    "print(-number)\n",
    "\n",
    "# unary oprator to change the sign of a number\n",
    "print(+number)"
   ]
  },
  {
   "cell_type": "code",
   "execution_count": 42,
   "id": "231a5634-eb99-48d4-a438-f80583b9c299",
   "metadata": {},
   "outputs": [
    {
     "name": "stdin",
     "output_type": "stream",
     "text": [
      " 10\n",
      " 12\n"
     ]
    },
    {
     "name": "stdout",
     "output_type": "stream",
     "text": [
      "b is greater then a\n"
     ]
    }
   ],
   "source": [
    "#Use the ternary operator to assign values based on conditions.\n",
    "\n",
    "a = int(input())\n",
    "b = int(input())\n",
    "\n",
    "result = \"a is greater then b\" if a > b  else \"b is greater then a\"\n",
    "print(result)"
   ]
  },
  {
   "cell_type": "code",
   "execution_count": null,
   "id": "a0d4ae8f-5ea9-499b-bcd8-ee92d48ec937",
   "metadata": {},
   "outputs": [],
   "source": []
  }
 ],
 "metadata": {
  "kernelspec": {
   "display_name": "Python 3 (ipykernel)",
   "language": "python",
   "name": "python3"
  },
  "language_info": {
   "codemirror_mode": {
    "name": "ipython",
    "version": 3
   },
   "file_extension": ".py",
   "mimetype": "text/x-python",
   "name": "python",
   "nbconvert_exporter": "python",
   "pygments_lexer": "ipython3",
   "version": "3.10.8"
  }
 },
 "nbformat": 4,
 "nbformat_minor": 5
}
